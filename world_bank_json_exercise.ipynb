{
 "cells": [
  {
   "cell_type": "markdown",
   "metadata": {},
   "source": [
    "<h1>0. Introduction.</b></h1>\n",
    "\n",
    "As an exercise in working with JSON files, we will work with a data set from the World Bank that provides information about how money lended to different countries is utilized.\n",
    "\n",
    "For this assignment specifically, we'd like to answer the following:\n",
    "\n",
    "<ol>\n",
    "<li>Find the 10 countries with most projects.</li>\n",
    "<li>Find the top 10 major project themes (using column 'mjtheme_namecode').</li>\n",
    "<li>In 2. above you will notice that some entries have only the code and the name is missing. Create a dataframe with the missing names filled in.</li>\n",
    "</ol>\n",
    "\n",
    "To start, we can load the necessary Python packages and the JSON file provided to see what we have."
   ]
  },
  {
   "cell_type": "code",
   "execution_count": 1,
   "metadata": {},
   "outputs": [
    {
     "name": "stdout",
     "output_type": "stream",
     "text": [
      "Data dimensions:  (500, 50)\n",
      "Index(['_id', 'approvalfy', 'board_approval_month', 'boardapprovaldate',\n",
      "       'borrower', 'closingdate', 'country_namecode', 'countrycode',\n",
      "       'countryname', 'countryshortname', 'docty', 'envassesmentcategorycode',\n",
      "       'grantamt', 'ibrdcommamt', 'id', 'idacommamt', 'impagency',\n",
      "       'lendinginstr', 'lendinginstrtype', 'lendprojectcost',\n",
      "       'majorsector_percent', 'mjsector_namecode', 'mjtheme',\n",
      "       'mjtheme_namecode', 'mjthemecode', 'prodline', 'prodlinetext',\n",
      "       'productlinetype', 'project_abstract', 'project_name', 'projectdocs',\n",
      "       'projectfinancialtype', 'projectstatusdisplay', 'regionname', 'sector',\n",
      "       'sector1', 'sector2', 'sector3', 'sector4', 'sector_namecode',\n",
      "       'sectorcode', 'source', 'status', 'supplementprojectflg', 'theme1',\n",
      "       'theme_namecode', 'themecode', 'totalamt', 'totalcommamt', 'url'],\n",
      "      dtype='object')\n",
      "Total number of projects:  500\n"
     ]
    }
   ],
   "source": [
    "import pandas as pd\n",
    "import json\n",
    "from pandas.io.json import json_normalize\n",
    "\n",
    "# Load file as data frame and see what columns we have\n",
    "world_bank_df = pd.read_json('data/world_bank_projects.json')\n",
    "print('Data dimensions: ', world_bank_df.shape)\n",
    "print(world_bank_df.columns)\n",
    "print('Total number of projects: ', world_bank_df.id.nunique())"
   ]
  },
  {
   "cell_type": "markdown",
   "metadata": {},
   "source": [
    "We find that we have a total of 500 different projects for analysis with each project having 50 different attributes to describe it."
   ]
  },
  {
   "cell_type": "markdown",
   "metadata": {},
   "source": [
    "<hr>\n",
    "<h1>1. Find the 10 countries with the most projects.</b></h1>\n",
    "\n",
    "Based on the columns that we have, the projects can be grouped according to the country names (<code>'countrynames'</code>). We can then count\n",
    "the number of projects in each group and sort the results in descending order. The countries\n",
    "with a greater number of projects will be towards the top of this list.\n"
   ]
  },
  {
   "cell_type": "code",
   "execution_count": 2,
   "metadata": {
    "collapsed": true
   },
   "outputs": [],
   "source": [
    "proj_per_country = world_bank_df.groupby('countryname')['id'].size() # Group according to 'countryname'\n",
    "sorted_countries = proj_per_country.sort_values(ascending=False)     # Keep the greatest values at the top"
   ]
  },
  {
   "cell_type": "raw",
   "metadata": {},
   "source": [
    "<p>Our goal is to find the ten countries with the most projects, but it's <b>important to check for \n",
    "any tied values</b>. Rather than take a slice of the first ten items from <code>sorted_countries</code>,\n",
    "we can look at, say, the top fifteen items listed, just in case multiple countries share the same number of projects.</p>"
   ]
  },
  {
   "cell_type": "code",
   "execution_count": 3,
   "metadata": {},
   "outputs": [
    {
     "name": "stdout",
     "output_type": "stream",
     "text": [
      "countryname\n",
      "People's Republic of China         19\n",
      "Republic of Indonesia              19\n",
      "Socialist Republic of Vietnam      17\n",
      "Republic of India                  16\n",
      "Republic of Yemen                  13\n",
      "Nepal                              12\n",
      "People's Republic of Bangladesh    12\n",
      "Kingdom of Morocco                 12\n",
      "Africa                             11\n",
      "Republic of Mozambique             11\n",
      "Burkina Faso                        9\n",
      "Federative Republic of Brazil       9\n",
      "Islamic Republic of Pakistan        9\n",
      "United Republic of Tanzania         8\n",
      "Republic of Tajikistan              8\n",
      "Name: id, dtype: int64\n"
     ]
    }
   ],
   "source": [
    "print(sorted_countries[:15]) # Check for ties by taking a slice with the first 15 values."
   ]
  },
  {
   "cell_type": "markdown",
   "metadata": {},
   "source": [
    "The 10th and 11th elements in this ranked list, Republic of Mozambique and Burkina Faso, \n",
    "respectively, are not tied. Thus, our final answer for the 10 countries would just\n",
    "be a slice of the first 10 elements, which is listed in the below table."
   ]
  },
  {
   "cell_type": "code",
   "execution_count": 4,
   "metadata": {},
   "outputs": [
    {
     "name": "stdout",
     "output_type": "stream",
     "text": [
      "The 10 countries with the most projects:\n",
      "----------------------------------------\n"
     ]
    },
    {
     "data": {
      "text/plain": [
       "countryname\n",
       "People's Republic of China         19\n",
       "Republic of Indonesia              19\n",
       "Socialist Republic of Vietnam      17\n",
       "Republic of India                  16\n",
       "Republic of Yemen                  13\n",
       "Nepal                              12\n",
       "People's Republic of Bangladesh    12\n",
       "Kingdom of Morocco                 12\n",
       "Africa                             11\n",
       "Republic of Mozambique             11\n",
       "Name: id, dtype: int64"
      ]
     },
     "execution_count": 4,
     "metadata": {},
     "output_type": "execute_result"
    }
   ],
   "source": [
    "print('The 10 countries with the most projects:')\n",
    "print('----------------------------------------')\n",
    "sorted_countries[:10] # No ties, so just slice the first 10 in the sorted data."
   ]
  },
  {
   "cell_type": "markdown",
   "metadata": {},
   "source": [
    "<hr>\n",
    "<h1>2. Find the top 10 major project themes ('mjtheme_namecode').</b></h1>'"
   ]
  },
  {
   "cell_type": "markdown",
   "metadata": {},
   "source": [
    "First, we should look at the data structure for the <code>'mjtheme_namecode'</code> column.\n",
    "It turns out that it is a list of dictionaries, and some projects listed are described by more than\n",
    "one code. If we want to count the major project themes, these data should be expanded for a proper count.\n",
    "\n",
    "A great way to do this is to use the <code>'json_normalize'</code> function to work with these data, and make\n",
    "a table which we will call <code>'mjtable'</code>."
   ]
  },
  {
   "cell_type": "code",
   "execution_count": 5,
   "metadata": {
    "collapsed": true
   },
   "outputs": [],
   "source": [
    "# Load and create a table with mjtheme_namecode\n",
    "wb_list = json.load(open('data/world_bank_projects.json'))\n",
    "mjtable = json_normalize(wb_list, 'mjtheme_namecode') # Create table to expand the listed project codes"
   ]
  },
  {
   "cell_type": "markdown",
   "metadata": {},
   "source": [
    "Each entry in the <code>'mjtheme_namecode'</code> column has <code>'code'</code> and corresponding <code>'name'</code>.\n",
    "It seems reasonable to group these data by <code>'name'</code>, but we will find that values are missing and this will\n",
    "be a group on its own. This is not desirable, because some categories will be underrepresented in the final tally."
   ]
  },
  {
   "cell_type": "code",
   "execution_count": 6,
   "metadata": {},
   "outputs": [
    {
     "name": "stdout",
     "output_type": "stream",
     "text": [
      "name\n",
      "Environment and natural resources management    223\n",
      "Rural development                               202\n",
      "Human development                               197\n",
      "Public sector governance                        184\n",
      "Social protection and risk management           158\n",
      "Financial and private sector development        130\n",
      "                                                122\n",
      "Social dev/gender/inclusion                     119\n",
      "Trade and integration                            72\n",
      "Urban development                                47\n",
      "Economic management                              33\n",
      "Rule of law                                      12\n",
      "dtype: int64\n"
     ]
    }
   ],
   "source": [
    "sorted_mjthemes_byname = mjtable.groupby('name').size().sort_values(ascending=False) # Groups based on name\n",
    "print(sorted_mjthemes_byname[:15]) # Check the 15 highest values for ties"
   ]
  },
  {
   "cell_type": "markdown",
   "metadata": {},
   "source": [
    "There are 122 entries that are missing names. However, the values for \n",
    "the <code>'code'</code> column are all present. Creating groups with these data\n",
    "instead will provide the correct values. We can then take a slice of the top 15\n",
    "as we previously did to see if there are any tied categories."
   ]
  },
  {
   "cell_type": "code",
   "execution_count": 7,
   "metadata": {},
   "outputs": [
    {
     "name": "stdout",
     "output_type": "stream",
     "text": [
      "code\n",
      "11    250\n",
      "10    216\n",
      "8     210\n",
      "2     199\n",
      "6     168\n",
      "4     146\n",
      "7     130\n",
      "5      77\n",
      "9      50\n",
      "1      38\n",
      "3      15\n",
      "dtype: int64\n"
     ]
    }
   ],
   "source": [
    "sorted_mjthemes_bycode = mjtable.groupby('code').size().sort_values(ascending=False) # Groups based on code\n",
    "print(sorted_mjthemes_bycode[:15]) # Check the 15 highest values in case of ties"
   ]
  },
  {
   "cell_type": "markdown",
   "metadata": {},
   "source": [
    "The counts are a correct representation of the data, and there are no ties.\n",
    "\n",
    "It would be helpful if we convert these numeric codes into their descriptive\n",
    "names, however. We can address this by creating a dictionary for the different themes,\n",
    "and then look up the names for the top ten categories."
   ]
  },
  {
   "cell_type": "code",
   "execution_count": 8,
   "metadata": {},
   "outputs": [
    {
     "name": "stdout",
     "output_type": "stream",
     "text": [
      "Total number of themes:  11\n",
      "Total number of dictionary entries:  11\n",
      "----------------------------------------------------------\n",
      "      counts                                   description\n",
      "code                                                      \n",
      "11       250  Environment and natural resources management\n",
      "10       216                             Rural development\n",
      "8        210                             Human development\n",
      "2        199                      Public sector governance\n",
      "6        168         Social protection and risk management\n",
      "4        146      Financial and private sector development\n",
      "7        130                   Social dev/gender/inclusion\n",
      "5         77                         Trade and integration\n",
      "9         50                             Urban development\n",
      "1         38                           Economic management\n"
     ]
    }
   ],
   "source": [
    "# How many entries are we expecting for the dictionary?\n",
    "print('Total number of themes: ', str(mjtable['code'].nunique()))\n",
    "# Build the dictionary from the subset of data without missing values.\n",
    "\n",
    "complete = mjtable[mjtable['name'] != '']   # Note: for this particular case, we're lucky, because\n",
    "                                            # all possible themes will be represented here\n",
    "    \n",
    "mjtheme_dict = complete.set_index('code')['name'].to_dict() # Create dictionary\n",
    "print('Total number of dictionary entries: ', str(len(mjtheme_dict)))\n",
    "\n",
    "# Use the dictionary to convert 'code' back to their descriptive names\n",
    "# Note: We keep the top 10, since we already saw there were no ties\n",
    "print('----------------------------------------------------------')\n",
    "mjthemes_top10 = sorted_mjthemes_bycode[:10].to_frame('counts')\n",
    "mjthemes_top10['description'] = list(map(mjtheme_dict.get, mjthemes_top10.index))\n",
    "print(mjthemes_top10)"
   ]
  },
  {
   "cell_type": "markdown",
   "metadata": {},
   "source": [
    "The ten themes with the greatest number of projects are listed in the above table."
   ]
  },
  {
   "cell_type": "markdown",
   "metadata": {},
   "source": [
    "<hr>\n",
    "<h1>3. Create a dataframe with the missing names filled in.</b></h1>"
   ]
  },
  {
   "cell_type": "markdown",
   "metadata": {},
   "source": [
    "It would be helpful to replace all the missing values with the appropriate theme names,\n",
    "and we can use our dictionary to do this. Furthermore, after replacing the missing terms, we can \n",
    "save the data frame to a JSON file for future use."
   ]
  },
  {
   "cell_type": "code",
   "execution_count": 9,
   "metadata": {
    "collapsed": true
   },
   "outputs": [],
   "source": [
    "filled_namecodes = world_bank_df['mjtheme_namecode'] # Pick out the column we want\n",
    "\n",
    "for data in filled_namecodes:\n",
    "    length = len(data) # Iterate through the list of codes for the project\n",
    "    for idx in range(0,length):\n",
    "        if (data[idx]['name'] == ''):                           # If the 'name' information is missing\n",
    "            data[idx]['name'] = mjtheme_dict[data[idx]['code']] # look it up in the dictionary and replace it\n",
    "            \n",
    "# Save the DataFrame to a JSON file\n",
    "world_bank_df.to_json('data/world_bank_projects_filled.json', orient='records') # Save these records as a different file"
   ]
  },
  {
   "cell_type": "markdown",
   "metadata": {},
   "source": [
    "As a way to check, we can load the JSON file with completed names, and verify that all data are \n",
    "present in the <code>'mjtheme_namecodes'</code> column."
   ]
  },
  {
   "cell_type": "code",
   "execution_count": 10,
   "metadata": {},
   "outputs": [
    {
     "name": "stdout",
     "output_type": "stream",
     "text": [
      "There are  0 entries missing.\n"
     ]
    }
   ],
   "source": [
    "# Load the completed JSON file\n",
    "check_wb_list = json.load(open('data/world_bank_projects_filled.json'))\n",
    "check_mjtable = json_normalize(check_wb_list, 'mjtheme_namecode')\n",
    "# Check if there are any missing values\n",
    "number_missing = len(check_mjtable[check_mjtable['name'] == ''])\n",
    "print('There are ', str(number_missing), 'entries missing.')"
   ]
  },
  {
   "cell_type": "markdown",
   "metadata": {},
   "source": [
    "Previously, we had 122 values missing, and now there are none in the updated JSON file. \n",
    "\n",
    "Note: we can also load this file as a data frame as we originally did, and continue to work with it as we wish."
   ]
  },
  {
   "cell_type": "code",
   "execution_count": 11,
   "metadata": {
    "collapsed": true
   },
   "outputs": [],
   "source": [
    "check_world_bank_df = pd.read_json('world_bank_projects_filled.json') # Load the new, completed data as a data frame"
   ]
  }
 ],
 "metadata": {
  "kernelspec": {
   "display_name": "Python 3",
   "language": "python",
   "name": "python3"
  },
  "language_info": {
   "codemirror_mode": {
    "name": "ipython",
    "version": 3
   },
   "file_extension": ".py",
   "mimetype": "text/x-python",
   "name": "python",
   "nbconvert_exporter": "python",
   "pygments_lexer": "ipython3",
   "version": "3.6.1"
  }
 },
 "nbformat": 4,
 "nbformat_minor": 2
}
