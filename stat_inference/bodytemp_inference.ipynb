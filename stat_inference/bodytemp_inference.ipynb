{
 "cells": [
  {
   "cell_type": "markdown",
   "metadata": {},
   "source": [
    "# What is the True Normal Human Body Temperature? \n",
    "\n",
    "#### Background\n",
    "\n",
    "The mean normal body temperature was held to be 37$^{\\circ}$C or 98.6$^{\\circ}$F for more than 120 years since it was first conceptualized and reported by Carl Wunderlich in a famous 1868 book. But, is this value statistically correct?"
   ]
  },
  {
   "cell_type": "markdown",
   "metadata": {},
   "source": [
    "<div class=\"span5 alert alert-info\">\n",
    "<h3>Exercises</h3>\n",
    "\n",
    "<p>In this exercise, you will analyze a dataset of human body temperatures and employ the concepts of hypothesis testing, confidence intervals, and statistical significance.</p>\n",
    "\n",
    "<p>Answer the following questions <b>in this notebook below and submit to your Github account</b>.</p> \n",
    "\n",
    "<ol>\n",
    "<li>  Is the distribution of body temperatures normal? \n",
    "    <ul>\n",
    "    <li> Although this is not a requirement for CLT to hold (read CLT carefully), it gives us some peace of mind that the population may also be normally distributed if we assume that this sample is representative of the population.\n",
    "    </ul>\n",
    "<li>  Is the sample size large? Are the observations independent?\n",
    "    <ul>\n",
    "    <li> Remember that this is a condition for the CLT, and hence the statistical tests we are using, to apply.\n",
    "    </ul>\n",
    "<li>  Is the true population mean really 98.6 degrees F?\n",
    "    <ul>\n",
    "    <li> Would you use a one-sample or two-sample test? Why?\n",
    "    <li> In this situation, is it appropriate to use the $t$ or $z$ statistic? \n",
    "    <li> Now try using the other test. How is the result be different? Why?\n",
    "    </ul>\n",
    "<li>  At what temperature should we consider someone's temperature to be \"abnormal\"?\n",
    "    <ul>\n",
    "    <li> Start by computing the margin of error and confidence interval.\n",
    "    </ul>\n",
    "<li>  Is there a significant difference between males and females in normal temperature?\n",
    "    <ul>\n",
    "    <li> What test did you use and why?\n",
    "    <li> Write a story with your conclusion in the context of the original problem.\n",
    "    </ul>\n",
    "</ol>\n",
    "\n",
    "You can include written notes in notebook cells using Markdown: \n",
    "   - In the control panel at the top, choose Cell > Cell Type > Markdown\n",
    "   - Markdown syntax: http://nestacms.com/docs/creating-content/markdown-cheat-sheet\n",
    "\n",
    "#### Resources\n",
    "\n",
    "+ Information and data sources: http://www.amstat.org/publications/jse/datasets/normtemp.txt, http://www.amstat.org/publications/jse/jse_data_archive.htm\n",
    "+ Markdown syntax: http://nestacms.com/docs/creating-content/markdown-cheat-sheet\n",
    "\n",
    "****\n",
    "</div>"
   ]
  },
  {
   "cell_type": "code",
   "execution_count": 1,
   "metadata": {
    "collapsed": true
   },
   "outputs": [],
   "source": [
    "import pandas as pd\n",
    "\n",
    "df = pd.read_csv('data/human_body_temperature.csv')"
   ]
  },
  {
   "cell_type": "markdown",
   "metadata": {
    "collapsed": true
   },
   "source": [
    "<h2>0. Overview of our data.</h2>\n",
    "\n",
    "It's always helpful to have a look at what we're working with before we start."
   ]
  },
  {
   "cell_type": "code",
   "execution_count": 2,
   "metadata": {},
   "outputs": [
    {
     "name": "stdout",
     "output_type": "stream",
     "text": [
      "<class 'pandas.core.frame.DataFrame'>\n",
      "RangeIndex: 130 entries, 0 to 129\n",
      "Data columns (total 3 columns):\n",
      "temperature    130 non-null float64\n",
      "gender         130 non-null object\n",
      "heart_rate     130 non-null float64\n",
      "dtypes: float64(2), object(1)\n",
      "memory usage: 3.1+ KB\n"
     ]
    }
   ],
   "source": [
    "df.info()"
   ]
  },
  {
   "cell_type": "markdown",
   "metadata": {},
   "source": [
    "Our data consists of three columns: two are measurements of\n",
    "body temperature and heart rate, while the third is categorical,\n",
    "indicating whether the subject is male or female. There are no missing\n",
    "entries in the data table.\n",
    "\n",
    "<h2>1. Is the distribution of body temperatures normal?</h2>\n",
    "\n",
    "There are a few ways to check to see of our data are normally. To start,\n",
    "we can see if the distribution if unimodal, because if we see multiple\n",
    "peaks, we know right away to use a different model distribution."
   ]
  },
  {
   "cell_type": "code",
   "execution_count": 3,
   "metadata": {},
   "outputs": [
    {
     "data": {
      "image/png": "[encoded data removed]",
      "text/plain": [
       "<matplotlib.figure.Figure at 0x7fcea827e2e8>"
      ]
     },
     "metadata": {},
     "output_type": "display_data"
    }
   ],
   "source": [
    "import matplotlib.pyplot as plt\n",
    "\n",
    "# Plot a histogram of our data to see if we have unimodal distribution.\n",
    "plt.hist(df.temperature, bins=10)\n",
    "plt.xlabel('Temperature')\n",
    "plt.ylabel('Frequency')\n",
    "plt.title('Distribution of Temperatures')\n",
    "plt.show()"
   ]
  },
  {
   "cell_type": "markdown",
   "metadata": {},
   "source": [
    "There may be a tail in our data using this binning, but the histogram \n",
    "indicates that a normal distribution may be possible, and we should\n",
    "further evaluate this.\n",
    "\n",
    "There are a few ways to check for normality in Python. One approach \n",
    "is a built-in function in the <code>scipy</code> package based on\n",
    "the D'Agostino-Pearson normality test. \n"
   ]
  },
  {
   "cell_type": "code",
   "execution_count": 4,
   "metadata": {},
   "outputs": [
    {
     "data": {
      "text/plain": [
       "NormaltestResult(statistic=2.7038014333192031, pvalue=0.2587479863488254)"
      ]
     },
     "execution_count": 4,
     "metadata": {},
     "output_type": "execute_result"
    }
   ],
   "source": [
    "from scipy import stats\n",
    "stats.normaltest(df.temperature) # Easy, right?"
   ]
  },
  {
   "cell_type": "markdown",
   "metadata": {},
   "source": [
    "The p-value is roughly 0.26 here, suggesting that the data are normal.\n",
    "\n",
    "Alternative, we can compare our data to a set of values randomly drawn from a normal\n",
    "distribution that is centered at the sample mean and has the same variance\n",
    "as the sample variance, $N(\\mu=\\bar{x}, \\sigma^2=s^2)$.\n",
    "The Kolmogorov&ndash;Smirnov (KS) test will then be used to compare the original data with this simulated set to verify whether the body temperatures follow a normal distribution."
   ]
  },
  {
   "cell_type": "code",
   "execution_count": 5,
   "metadata": {},
   "outputs": [
    {
     "data": {
      "text/plain": [
       "Ks_2sampResult(statistic=0.13076923076923075, pvalue=0.20083765666792366)"
      ]
     },
     "execution_count": 5,
     "metadata": {},
     "output_type": "execute_result"
    }
   ],
   "source": [
    "import numpy as np\n",
    "import matplotlib.pyplot as plt\n",
    "\n",
    "# Parameters for N(mu, sigma)\n",
    "mu = np.mean(df.temperature)\n",
    "sigma = np.std(df.temperature)\n",
    "# Random number generation, drawing from N(mu, sigma)\n",
    "np.random.seed(123)\n",
    "rand = np.random.normal(mu,sigma, size = df.shape[0])\n",
    "\n",
    "# Kolmogorov-Smirnov test for normality\n",
    "stats.ks_2samp(df.temperature, rand) # Make use of the r.v.'s from N(mu, sigma) distribution"
   ]
  },
  {
   "cell_type": "markdown",
   "metadata": {},
   "source": [
    "The p-value is 0.2 in the KS test, which indicates that we can assume the two distributions are the same. A visual example that compares the CDFs of both data sets is included below."
   ]
  },
  {
   "cell_type": "code",
   "execution_count": 6,
   "metadata": {},
   "outputs": [
    {
     "data": {
      "image/png": "[encoded data removed]",
      "text/plain": [
       "<matplotlib.figure.Figure at 0x7fce74132710>"
      ]
     },
     "metadata": {},
     "output_type": "display_data"
    }
   ],
   "source": [
    "def ecdf(data):\n",
    "    '''Calculate the x,y-coordinates for CDF of data'''\n",
    "    x = np.sort(data)\n",
    "    y = np.arange(1, len(x)+1)/len(x)\n",
    "    return x,y\n",
    "\n",
    "x_temp, y_temp = ecdf(df.temperature)\n",
    "x_rand, y_rand = ecdf(rand)\n",
    "\n",
    "plt.figure(figsize=(8,6))\n",
    "_ = plt.plot(x_temp,y_temp, marker='.', linestyle='-', color='blue', alpha=0.5, label='collected data')\n",
    "_ = plt.plot(x_rand,y_rand, linestyle='-', color='red', label='simulated data')\n",
    "plt.xlabel('Body Temperature')\n",
    "plt.ylabel('Proportion')\n",
    "plt.title('Comparison to Normal Distribution')\n",
    "plt.margins(0.02)\n",
    "plt.legend()\n",
    "plt.show()"
   ]
  },
  {
   "cell_type": "markdown",
   "metadata": {},
   "source": [
    "Our visual and quantitative comparisons indicate that our data are normally distributed."
   ]
  },
  {
   "cell_type": "markdown",
   "metadata": {},
   "source": [
    "<h2> 2. Is the sample size large? Are the observations independent? </h2>\n",
    "\n",
    "A sample size, <i>n</i>, that is 30 or greater is often considered large enough\n",
    "to satisfy the Central Limit Theorem. "
   ]
  },
  {
   "cell_type": "code",
   "execution_count": 12,
   "metadata": {},
   "outputs": [
    {
     "name": "stdout",
     "output_type": "stream",
     "text": [
      "There are 130 samples.\n"
     ]
    }
   ],
   "source": [
    "n = df.shape[0] # Check sample size\n",
    "print('There are', str(n), 'samples.')"
   ]
  },
  {
   "cell_type": "markdown",
   "metadata": {},
   "source": [
    "Our total sample size is 130, so yes, the sample size is large.\n",
    "\n",
    "We can check for independence in the observations by\n",
    "performing a simple linear regression on our data, and plotting the residuals.\n",
    "The residuals should not have any noticeable pattern if the observations are\n",
    "independent from each other. For instance, for a specific <i>x</i>, there\n",
    "should be no way to predict the value for the corresponding residual.\n",
    "\n",
    "An increased heart rate will typically increase body temperature, such as when\n",
    "a person is exercising, so heart rate will be treated as the independent variable\n",
    "in our linear regression model."
   ]
  },
  {
   "cell_type": "code",
   "execution_count": 8,
   "metadata": {},
   "outputs": [
    {
     "data": {
      "image/png": "[encoded data removed]",
      "text/plain": [
       "<matplotlib.figure.Figure at 0x7fce7404d5c0>"
      ]
     },
     "metadata": {},
     "output_type": "display_data"
    }
   ],
   "source": [
    "# 2. Check sample size and check for independence\n",
    "import seaborn as sns\n",
    "plt.figure(figsize=(15,7))\n",
    "plt.subplot(1,2,1)\n",
    "sns.regplot('heart_rate', 'temperature', data=df)\n",
    "plt.xlabel('Heart Rate')\n",
    "plt.ylabel('Body Temperature')\n",
    "plt.title('Body Temperature vs. Heart Rate')\n",
    "\n",
    "plt.subplot(1,2,2)\n",
    "sns.residplot('heart_rate', 'temperature', data=df)\n",
    "plt.ylim((-3,3))\n",
    "plt.xlabel('Heart Rate')\n",
    "plt.ylabel('Residuals')\n",
    "plt.title('Residuals (Body Temperature vs. Heart Rate)')\n",
    "plt.tight_layout()\n",
    "plt.show()"
   ]
  },
  {
   "cell_type": "markdown",
   "metadata": {},
   "source": [
    "The residuals for our data are in the right figure, and we see that they are randomly scattered. This tells us that our observations are independent from each other."
   ]
  },
  {
   "cell_type": "markdown",
   "metadata": {},
   "source": [
    "<h2>3. Is the true population mean really 98.6 degrees F?</h2>\n",
    "\n",
    "<b> Would you use a one-sample or two-sample test? Why?</b><br>\n",
    "It would be appropriate to use a one-sample test here, because there is only one sample mean\n",
    "that we want to evaluate. Men and women are both part of the general population, so\n",
    "our data should not be divided according to gender for measuring the mean normal body temperature of a person.\n",
    "We will use a two-sided test, because it's possible for the \n",
    "true body temperature to be greater than or less than the hypothesized value.\n",
    "\n",
    "H<sub>0</sub>: $\\mu$ = 98.6<br>\n",
    "H<sub>a</sub>: $\\mu$ $\\neq$ 98.6\n",
    "\n",
    "\n",
    "<b>In this situation, is it appropriate to use the <i>t</i> or <i>z</i> statistic?</b>\n",
    "\n",
    "There are two considerations we should make when deciding between <i>t</i>- and <i>z</i>-tests:\n",
    "(1) what is the sample size and (2) what do we know about population variance?\n",
    "In general, the <i>t</i>-test works well when sample size is small (n < 30 is the common\n",
    "rule-of-thumb), and the true population variance is unknown.\n",
    "\n",
    "Here, we have a large sample size (130 observations), and although we can only compute\n",
    "the sample variance, this value can be used to estimate the population variance, so the <i>z</i>-test can be used. Determining which Student's \n",
    "<i>t</i>-distribution a data set follows depends upon the degrees of freedom,\n",
    "which is determined by the number of observations (<i>n</i> observations have (<i>n-1</i>) degrees of freedom\n",
    "in a one-sample test.) As the degrees of freedom increases, the <i>t</i>-distribution\n",
    "converges more to the normal distribution, justifying the <i>z</i>-test in this case."
   ]
  },
  {
   "cell_type": "code",
   "execution_count": 13,
   "metadata": {},
   "outputs": [
    {
     "name": "stdout",
     "output_type": "stream",
     "text": [
      "z-test statistic: -5.47592520208\n",
      "p-value: 4.35231516588e-08\n"
     ]
    }
   ],
   "source": [
    "mu = 98.6                      # Theoretical mu\n",
    "xbar = np.mean(df.temperature) # Average from samples\n",
    "sigma = np.std(df.temperature) # Estimated population variance\n",
    "n = df.shape[0]\n",
    "\n",
    "z = (xbar - mu)/(sigma/np.sqrt(n)) # Test statistic for one-sample z-test\n",
    "\n",
    "# We can compute the p-value either by simulation or\n",
    "# by looking up the z-score on a table.\n",
    "\n",
    "from scipy.stats import norm\n",
    "# We're interested in the probability of finding an observation\n",
    "# that is more extreme than what we have, so the p-value is\n",
    "p_value = norm.cdf(z)*2   # Two-tailed test, so need to double\n",
    "print('z-test statistic:', z)\n",
    "print('p-value:', p_value)"
   ]
  },
  {
   "cell_type": "markdown",
   "metadata": {},
   "source": [
    "The <i>p</i>-value here is very small. This indicates that the null hypothesis should be rejected, and that the average body temperature may be different from 98.6$^{\\circ}$F.\n",
    "\n",
    "<b>Now try using the other test. How would the result be different? Why?</b>"
   ]
  },
  {
   "cell_type": "code",
   "execution_count": 10,
   "metadata": {},
   "outputs": [
    {
     "name": "stdout",
     "output_type": "stream",
     "text": [
      "t-test statistic: -5.47592520208\n",
      "p-value: 1.00264080519e-06\n"
     ]
    }
   ],
   "source": [
    "mu = 98.6\n",
    "xbar = np.mean(df.temperature)\n",
    "s = np.std(df.temperature)\n",
    "n = df.shape[0]\n",
    "\n",
    "t = (xbar - mu)/(s/np.sqrt(n))  # Test statistic for one-sample t-test\n",
    "                                # Note: standard error of the mean is calculated\n",
    "p_value = stats.t.pdf(t, n-1)*2  # Two-tailed test so need to double it\n",
    "\n",
    "print('t-test statistic:', t)\n",
    "print('p-value:', p_value)"
   ]
  },
  {
   "cell_type": "markdown",
   "metadata": {},
   "source": [
    "Our <i>t</i>-test result is consistent with what we wound with the <i>z</i>-test. The low <i>p</i>-value indicates that the null hypothesis should be rejected."
   ]
  },
  {
   "cell_type": "markdown",
   "metadata": {},
   "source": [
    "<h2>4. At what temperature should we consider someone's temperature to be \"abnormal\"?</h2>"
   ]
  },
  {
   "cell_type": "markdown",
   "metadata": {},
   "source": [
    "Let's assume we want to be 95% confident in our result. The corresponding critical value, <i>z*</i>, is 1.96. We can use this to compute the margin of error for our sample, and also the corresponding confidence interval. "
   ]
  },
  {
   "cell_type": "code",
   "execution_count": 14,
   "metadata": {},
   "outputs": [
    {
     "name": "stdout",
     "output_type": "stream",
     "text": [
      "Margin of Error: 0.125550964803\n"
     ]
    }
   ],
   "source": [
    "# Margin of Error (z-test)\n",
    "zstar = 1.96\n",
    "sigma = np.std(df.temperature)\n",
    "n = df.shape[0]\n",
    "\n",
    "margin = zstar*(sigma/np.sqrt(n))\n",
    "print('Margin of Error:', margin)"
   ]
  },
  {
   "cell_type": "code",
   "execution_count": 16,
   "metadata": {},
   "outputs": [
    {
     "name": "stdout",
     "output_type": "stream",
     "text": [
      "Confidence Interval (95%): [98.1236798044,98.374781734]\n"
     ]
    }
   ],
   "source": [
    "# Confidence interval (z-test)\n",
    "mu = np.mean(df.temperature)\n",
    "CI_lower = mu - margin\n",
    "CI_upper = mu + margin\n",
    "\n",
    "print('Confidence Interval (95%):', '['+str(CI_lower) + ','+ str(CI_upper) + ']')"
   ]
  },
  {
   "cell_type": "markdown",
   "metadata": {},
   "source": [
    "From these data, we find that the true mean for normal body temperature is between 98.1 and 98.4 degrees Fahrenheit. Values that fall outside of these boundaries would be considered \"abnormal.\""
   ]
  },
  {
   "cell_type": "markdown",
   "metadata": {},
   "source": [
    "<h2>5. Is there a significant difference between males and females in normal temperature?</h2>\n",
    "\n",
    "<b>What test did you use and why?</b><br>\n",
    "After dividing our data into groups according to gender, we have 65 observations in each group.\n",
    "This is still a large sample, so a <i>z</i>-test would still be appropriate. We want to see how normal body temperature may be different for males and females, so there are two means we'd like to compare and we will need a two-sample test to do so.\n",
    "\n",
    "H<sub>0</sub>: $\\mu_M$ = $\\mu_F$<br>\n",
    "H<sub>a</sub>: $\\mu_M$ $\\neq$ $\\mu_F$\n",
    "\n",
    "\n",
    "An easier way to set up our hypotheses:<br>\n",
    "H<sub>0</sub>: $\\mu_M$ - $\\mu_F$ = 0<br>\n",
    "H<sub>a</sub>: $\\mu_M$ - $\\mu_F$ $\\neq$ 0\n"
   ]
  },
  {
   "cell_type": "code",
   "execution_count": 18,
   "metadata": {},
   "outputs": [
    {
     "name": "stdout",
     "output_type": "stream",
     "text": [
      "sample means (male, female): 98.1046153846154 98.39384615384613\n",
      "z-test statistics (two-sample test) -2.30322028919\n",
      "p-value: 0.0212664518301\n"
     ]
    }
   ],
   "source": [
    "males = df[df['gender'] == 'M']\n",
    "females = df[df['gender'] == 'F']\n",
    "\n",
    "n_males = males.shape[0] # Sample sizes\n",
    "n_females = females.shape[0]\n",
    "\n",
    "xbar_m = np.mean(males.temperature) # Sample means\n",
    "xbar_f = np.mean(females.temperature)\n",
    "\n",
    "var_m = np.var(males.temperature) # Variances\n",
    "var_f = np.var(females.temperature)\n",
    "\n",
    "SE = np.sqrt(var_m/n_males + var_f/n_females) # Standard error for both groups\n",
    "\n",
    "z = (xbar_m - xbar_f)/SE # Test statistic for two-sample z-test\n",
    "p_value = norm.cdf(z)*2   # Two-tailed test, so need to double\n",
    "print('sample means (male, female):', xbar_m, xbar_f)\n",
    "print('z-test statistics (two-sample test)', z)\n",
    "print('p-value:', p_value)"
   ]
  },
  {
   "cell_type": "markdown",
   "metadata": {},
   "source": [
    "Here, the two-sample <i>z</i>-test has a <i>p</i>-value of 0.021, which is a rather low probability. We can say that there is strong evidence against the null hypothesis, suggesting that the normal body temperatures may be different in men and women."
   ]
  },
  {
   "cell_type": "markdown",
   "metadata": {},
   "source": [
    "<b>Write a story with your conclusion in the context of the original problem.</b>"
   ]
  },
  {
   "cell_type": "markdown",
   "metadata": {
    "collapsed": true
   },
   "source": [
    "The normal body temperature in humans is often considered to be 98.6 degrees Fahrenheit, but our findings from these data indicate that it may actually be much lower. Back in 1868, Carl Wunderlich reportedly measured body temperatures from the armpit for many different subjects, multiple times. These measurements may not be the best representation of body temperature, however, and body temperatures are known to vary when measured from different body parts. \n",
    "\n",
    "It is unclear where the data provided for this exercise came from, so it is possible that the average body temperature has discrepancies due to different measurement locations. Oral measurements under the tongue are usually higher than those taken from the armpit, for example.\n",
    "Even if these measurements were taken consistently in the armpit to match Wunderlich's study, body temperatures can still fluctuate naturally throughout the day. Furthermore, the health status and age for a person can affect their normal average body temperature, which can help explain why our sample means are lower than 98.6.\n",
    "\n",
    "The differences in the average normal body temperatures for male and female subjects is perhaps less surprising. Men and women have natural biological distinctions that affect body temperature, such as in resting metabolic rates. The prescence of different hormones and their concentration levels can also contribute to temperature differences. Normal body temperature is often higher for women during ovulation, for example, to allow for proper function in the reproductive cycle."
   ]
  }
 ],
 "metadata": {
  "kernelspec": {
   "display_name": "Python 3",
   "language": "python",
   "name": "python3"
  },
  "language_info": {
   "codemirror_mode": {
    "name": "ipython",
    "version": 3
   },
   "file_extension": ".py",
   "mimetype": "text/x-python",
   "name": "python",
   "nbconvert_exporter": "python",
   "pygments_lexer": "ipython3",
   "version": "3.6.1"
  }
 },
 "nbformat": 4,
 "nbformat_minor": 1
}
